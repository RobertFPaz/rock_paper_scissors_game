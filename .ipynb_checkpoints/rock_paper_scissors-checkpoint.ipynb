{
 "cells": [
  {
   "cell_type": "code",
   "execution_count": null,
   "id": "b98a973a",
   "metadata": {},
   "outputs": [
    {
     "name": "stdout",
     "output_type": "stream",
     "text": [
      "Let's ro-sham-bo!\n",
      "Enter 'Play' or 'I quit' to exit.play\n",
      "Choose:'Rock', 'Paper', or 'Scissors'paper\n",
      "Computers choice: Paper\n",
      "Game Tied\n",
      "Let's ro-sham-bo!\n",
      "Enter 'Play' or 'I quit' to exit.play\n",
      "Choose:'Rock', 'Paper', or 'Scissors'paper\n",
      "Computers choice: Rock\n",
      "Paper beats Rock. Your a Winner!\n",
      "Let's ro-sham-bo!\n"
     ]
    }
   ],
   "source": [
    "from random import randint\n",
    "\n",
    "class Rock_Paper_Scissors():\n",
    "    actions = ['Rock', 'Paper', 'Scissors']\n",
    "    \n",
    "    winning_combos = {'Rock': 'Scissors', 'Scissors': 'Paper', 'Paper':'Rock'}\n",
    "    \n",
    "    def __init__(self, action=\"\", comp_choice=\"\"):\n",
    "        self.action = action\n",
    "        self.comp_choice = comp_choice\n",
    "\n",
    "    def player(self):\n",
    "        self.action = input(\"Choose:'Rock', 'Paper', or 'Scissors' \")\n",
    "        self.computer()\n",
    "        \n",
    "    def computer(self):\n",
    "        rand_num = randint(0,2)\n",
    "        self.comp_choice = self.actions[rand_num]\n",
    "        print(f\"Computers choice: {self.comp_choice}\")\n",
    "        \n",
    "    def winner(self):\n",
    "        if self.action.title() == self.comp_choice:\n",
    "            print(\"Game Tied\")\n",
    "        elif self.winning_combos[self.action.title()] == self.comp_choice:\n",
    "            print(f\"{self.action.title()} beats {self.comp_choice}. Your a Winner!\")\n",
    "        else: \n",
    "            print(f\"{self.comp_choice} beats {self.action.title()}. Computer wins, you lose! Better luck next time.\")\n",
    "        \n",
    "ro_sham_bo = Rock_Paper_Scissors()\n",
    "\n",
    "def play_game():\n",
    "    while True:\n",
    "        print(\"Let's ro-sham-bo!\")\n",
    "        choice = input(\"Enter 'Play' or 'I quit' to exit. \")\n",
    "        if choice.title() == 'Play':\n",
    "            ro_sham_bo.player()\n",
    "            ro_sham_bo.winner()\n",
    "        elif choice.lower() == 'i quit':\n",
    "            print(\"Thank you for playing.\")\n",
    "            break\n",
    "play_game()"
   ]
  },
  {
   "cell_type": "code",
   "execution_count": null,
   "id": "d1a3aedf",
   "metadata": {},
   "outputs": [],
   "source": []
  }
 ],
 "metadata": {
  "kernelspec": {
   "display_name": "Python 3 (ipykernel)",
   "language": "python",
   "name": "python3"
  },
  "language_info": {
   "codemirror_mode": {
    "name": "ipython",
    "version": 3
   },
   "file_extension": ".py",
   "mimetype": "text/x-python",
   "name": "python",
   "nbconvert_exporter": "python",
   "pygments_lexer": "ipython3",
   "version": "3.9.12"
  }
 },
 "nbformat": 4,
 "nbformat_minor": 5
}
